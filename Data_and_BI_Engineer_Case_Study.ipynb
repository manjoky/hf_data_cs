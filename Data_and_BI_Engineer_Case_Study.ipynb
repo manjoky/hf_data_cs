{
 "cells": [
  {
   "cell_type": "markdown",
   "metadata": {},
   "source": [
    "# Data and BI Engineer Case Study\n",
    "\n",
    "## Introduction\n",
    "In this notebook, we will answer the various questions asked as part of the technical test. The test is divided into three main sections: **Programming basics**, **Supply Chain logic and Optimization**, and **Data Analysis and Visualization**. Each section corresponds to a specific sheet in the Excel file provided, which is loaded at the very beginning of this notebook."
   ]
  },
  {
   "cell_type": "markdown",
   "metadata": {},
   "source": [
    "## 1. Loading libraries"
   ]
  },
  {
   "cell_type": "code",
   "execution_count": 127,
   "metadata": {},
   "outputs": [],
   "source": [
    "import pandas as pd\n",
    "import sqlite3\n",
    "import seaborn as sns\n",
    "import matplotlib.pyplot as plt\n",
    "import numpy as np"
   ]
  },
  {
   "cell_type": "markdown",
   "metadata": {},
   "source": [
    "## 2. Loading data"
   ]
  },
  {
   "cell_type": "code",
   "execution_count": 155,
   "metadata": {},
   "outputs": [],
   "source": [
    "excel_name = \"HF_DataBI_Engineer_Case_Study_Data.xlsx\"\n",
    "section_a = pd.read_excel(excel_name, sheet_name='SectionA')\n",
    "section_b_1 = pd.read_excel(excel_name, sheet_name='SectionB_1')\n",
    "section_b_2 = pd.read_excel(excel_name, sheet_name='SectionB_2')\n",
    "section_b_3 = pd.read_excel(excel_name, sheet_name='SectionB_3')\n",
    "section_c_1 = pd.read_excel(excel_name, sheet_name='SectionC_1')\n",
    "section_c_2 = pd.read_excel(excel_name, sheet_name='SectionC_2')\n",
    "section_c_3 = pd.read_excel(excel_name, sheet_name='SectionC_3')"
   ]
  },
  {
   "cell_type": "markdown",
   "metadata": {},
   "source": [
    "## 3. Section A – Programming basics"
   ]
  },
  {
   "cell_type": "markdown",
   "metadata": {},
   "source": [
    "**Question 1 :** How many meals (column “meals”) correspond to meal_code == 208?"
   ]
  },
  {
   "cell_type": "code",
   "execution_count": 23,
   "metadata": {},
   "outputs": [
    {
     "name": "stdout",
     "output_type": "stream",
     "text": [
      "There are 9563 meals corresponding to the meal_code == 208.\n"
     ]
    }
   ],
   "source": [
    "total_meals = section_a.loc[(section_a['meal_code'] == 208), 'meals'].sum()\n",
    "print(f\"There are {total_meals} meals corresponding to the meal_code == 208.\")"
   ]
  },
  {
   "cell_type": "markdown",
   "metadata": {},
   "source": [
    "**Question 2 :** What are the top 3 “meal_code” based on the number of meals (column “meals”) and how many meals for each of those three?"
   ]
  },
  {
   "cell_type": "code",
   "execution_count": 56,
   "metadata": {},
   "outputs": [
    {
     "name": "stdout",
     "output_type": "stream",
     "text": [
      "Here are the top 3 'meal_code' with their corresponding meals:\n"
     ]
    },
    {
     "data": {
      "text/html": [
       "<div>\n",
       "<style scoped>\n",
       "    .dataframe tbody tr th:only-of-type {\n",
       "        vertical-align: middle;\n",
       "    }\n",
       "\n",
       "    .dataframe tbody tr th {\n",
       "        vertical-align: top;\n",
       "    }\n",
       "\n",
       "    .dataframe thead th {\n",
       "        text-align: right;\n",
       "    }\n",
       "</style>\n",
       "<table border=\"1\" class=\"dataframe\">\n",
       "  <thead>\n",
       "    <tr style=\"text-align: right;\">\n",
       "      <th></th>\n",
       "      <th>meals</th>\n",
       "    </tr>\n",
       "    <tr>\n",
       "      <th>meal_code</th>\n",
       "      <th></th>\n",
       "    </tr>\n",
       "  </thead>\n",
       "  <tbody>\n",
       "    <tr>\n",
       "      <th>203</th>\n",
       "      <td>24897</td>\n",
       "    </tr>\n",
       "    <tr>\n",
       "      <th>201</th>\n",
       "      <td>23950</td>\n",
       "    </tr>\n",
       "    <tr>\n",
       "      <th>202</th>\n",
       "      <td>20085</td>\n",
       "    </tr>\n",
       "  </tbody>\n",
       "</table>\n",
       "</div>"
      ],
      "text/plain": [
       "           meals\n",
       "meal_code       \n",
       "203        24897\n",
       "201        23950\n",
       "202        20085"
      ]
     },
     "metadata": {},
     "output_type": "display_data"
    }
   ],
   "source": [
    "top_3_code = section_a.groupby('meal_code').sum().sort_values(by='meals', ascending=False).head(3)\n",
    "print(\"Here are the top 3 'meal_code' with their corresponding meals:\")\n",
    "display(top_3_code)"
   ]
  },
  {
   "cell_type": "markdown",
   "metadata": {},
   "source": [
    "**Question 3 :** Please answer the same question as above but this time in SQL. (This will be the only\n",
    "question in SQL, the following question should be answered in Python)"
   ]
  },
  {
   "cell_type": "code",
   "execution_count": 63,
   "metadata": {},
   "outputs": [
    {
     "name": "stdout",
     "output_type": "stream",
     "text": [
      "There are 9563 meals corresponding to the meal_code == 208. (SQL Version)\n"
     ]
    }
   ],
   "source": [
    "conn = sqlite3.connect(':memory:')\n",
    "section_a.to_sql('SectionA', conn, index=False, if_exists='replace')\n",
    "\n",
    "query_q1 = \"\"\"\n",
    "SELECT meal_code, SUM(meals) as total_meals\n",
    "FROM SectionA\n",
    "WHERE meal_code == 208\n",
    "\"\"\"\n",
    "\n",
    "total_meals_sql = pd.read_sql_query(query_q1, conn)\n",
    "\n",
    "print(f\"There are {total_meals} meals corresponding to the meal_code == 208. (SQL Version)\")\n",
    "\n",
    "conn.close()"
   ]
  },
  {
   "cell_type": "code",
   "execution_count": 65,
   "metadata": {},
   "outputs": [
    {
     "name": "stdout",
     "output_type": "stream",
     "text": [
      "Top 3 meal_code based on the number of meals (SQL):\n",
      "   meal_code  total_meals\n",
      "0        203        24897\n",
      "1        201        23950\n",
      "2        202        20085\n"
     ]
    }
   ],
   "source": [
    "conn = sqlite3.connect(':memory:')\n",
    "section_a.to_sql('SectionA', conn, index=False, if_exists='replace')\n",
    "\n",
    "query_q2 = \"\"\"\n",
    "SELECT meal_code, SUM(meals) as total_meals\n",
    "FROM SectionA\n",
    "GROUP BY meal_code\n",
    "ORDER BY total_meals DESC\n",
    "LIMIT 3\n",
    "\"\"\"\n",
    "\n",
    "top_3_code_sql = pd.read_sql_query(query_q2, conn)\n",
    "\n",
    "print(\"Top 3 meal_code based on the number of meals (SQL Version):\")\n",
    "print(top_3_code_sql)\n",
    "\n",
    "conn.close()"
   ]
  },
  {
   "cell_type": "markdown",
   "metadata": {},
   "source": [
    "Question 4 : Please visualize the top 10 “meal_code” based on the number of meals in column\n",
    "“meals”?"
   ]
  },
  {
   "cell_type": "code",
   "execution_count": 87,
   "metadata": {},
   "outputs": [
    {
     "data": {
      "image/png": "[encoded data removed]",
      "text/plain": [
       "<Figure size 800x600 with 1 Axes>"
      ]
     },
     "metadata": {},
     "output_type": "display_data"
    }
   ],
   "source": [
    "top_10_code = section_a.groupby('meal_code').sum().sort_values(by='meals', ascending=False).head(10)\n",
    "top_10_code = top_10_code.reset_index()\n",
    "\n",
    "plt.figure(figsize=(8, 6))\n",
    "ax = sns.barplot(x='meal_code', y='meals', data=top_10_code, palette='Reds')\n",
    "ax.bar_label(ax.containers[0])\n",
    "\n",
    "plt.xlabel('Code')\n",
    "plt.ylabel('Total meals')\n",
    "plt.title('Top 10 meal codes based on total number of meals')\n",
    "plt.show()"
   ]
  },
  {
   "cell_type": "markdown",
   "metadata": {},
   "source": [
    "Question 5 : Please add a new column named (meals_new) which adds 20% of meals if meal_code is 201, otherwise it adds 10% to the other meal_code meals. The new column should be rounded to the nearest integer and stored as an integer. Save the table in a variable and print the first 6 lines"
   ]
  },
  {
   "cell_type": "code",
   "execution_count": 103,
   "metadata": {},
   "outputs": [
    {
     "data": {
      "text/html": [
       "<div>\n",
       "<style scoped>\n",
       "    .dataframe tbody tr th:only-of-type {\n",
       "        vertical-align: middle;\n",
       "    }\n",
       "\n",
       "    .dataframe tbody tr th {\n",
       "        vertical-align: top;\n",
       "    }\n",
       "\n",
       "    .dataframe thead th {\n",
       "        text-align: right;\n",
       "    }\n",
       "</style>\n",
       "<table border=\"1\" class=\"dataframe\">\n",
       "  <thead>\n",
       "    <tr style=\"text-align: right;\">\n",
       "      <th></th>\n",
       "      <th>meal_code</th>\n",
       "      <th>meals</th>\n",
       "      <th>meals_new</th>\n",
       "    </tr>\n",
       "  </thead>\n",
       "  <tbody>\n",
       "    <tr>\n",
       "      <th>0</th>\n",
       "      <td>201</td>\n",
       "      <td>4193</td>\n",
       "      <td>5032</td>\n",
       "    </tr>\n",
       "    <tr>\n",
       "      <th>1</th>\n",
       "      <td>201</td>\n",
       "      <td>2322</td>\n",
       "      <td>2786</td>\n",
       "    </tr>\n",
       "    <tr>\n",
       "      <th>2</th>\n",
       "      <td>201</td>\n",
       "      <td>1019</td>\n",
       "      <td>1223</td>\n",
       "    </tr>\n",
       "    <tr>\n",
       "      <th>3</th>\n",
       "      <td>202</td>\n",
       "      <td>3449</td>\n",
       "      <td>3794</td>\n",
       "    </tr>\n",
       "    <tr>\n",
       "      <th>4</th>\n",
       "      <td>202</td>\n",
       "      <td>1901</td>\n",
       "      <td>2091</td>\n",
       "    </tr>\n",
       "    <tr>\n",
       "      <th>5</th>\n",
       "      <td>202</td>\n",
       "      <td>923</td>\n",
       "      <td>1015</td>\n",
       "    </tr>\n",
       "  </tbody>\n",
       "</table>\n",
       "</div>"
      ],
      "text/plain": [
       "   meal_code  meals  meals_new\n",
       "0        201   4193       5032\n",
       "1        201   2322       2786\n",
       "2        201   1019       1223\n",
       "3        202   3449       3794\n",
       "4        202   1901       2091\n",
       "5        202    923       1015"
      ]
     },
     "metadata": {},
     "output_type": "display_data"
    }
   ],
   "source": [
    "section_a['meals_new'] = section_a['meals'] * 1.10\n",
    "\n",
    "section_a['meals_new'] = section_a['meals_new'].where(\n",
    "    ~(section_a['meal_code'] == (201)),\n",
    "    section_a['meals'] * 1.20\n",
    ")\n",
    "\n",
    "section_a['meals_new'] = section_a['meals_new'].round().astype(int)\n",
    "\n",
    "display(section_a.head(6))"
   ]
  },
  {
   "cell_type": "markdown",
   "metadata": {},
   "source": [
    "Question 6 : Create a dictionary with the keys being meal_code and the values being a list with two\n",
    "elements, average meals (as integer value) and maximum meals. Use values from the meals_new\n",
    "column that you created above. Please print the dictionary (example: dict = {201:[1916,5032],\n",
    "202…})"
   ]
  },
  {
   "cell_type": "code",
   "execution_count": 116,
   "metadata": {},
   "outputs": [
    {
     "name": "stdout",
     "output_type": "stream",
     "text": [
      "{201: [1916, 5032], 202: [1473, 3794], 203: [1826, 5423], 204: [1401, 3929], 205: [1157, 2849], 206: [893, 1872], 207: [770, 2021], 208: [701, 2142], 209: [622, 1643], 210: [274, 710], 211: [849, 2191], 212: [726, 1953], 213: [906, 2311], 214: [466, 1248], 215: [545, 1378], 216: [963, 2482], 217: [782, 2046], 218: [148, 290], 221: [154, 345], 222: [104, 221], 223: [76, 195]}\n"
     ]
    }
   ],
   "source": [
    "mean_max_table = section_a.groupby('meal_code')['meals_new'].agg(['mean', 'max']).reset_index()\n",
    "\n",
    "mean_max_table['mean'] = mean_max_table['mean'].round().astype(int)\n",
    "\n",
    "result_dict = mean_max_table.set_index('meal_code').to_dict(orient='index')\n",
    "result_dict = {k: [v['mean'], v['max']] for k, v in result_dict.items()}\n",
    "\n",
    "print(result_dict)"
   ]
  },
  {
   "cell_type": "markdown",
   "metadata": {},
   "source": [
    "Question 7 : Please copy the dictionary above and store it in a new variable. Add minimum meals_new element to the list of each meal_code in the dictionary. Please print key 201 from previous dictionary as well as from this new dictionary"
   ]
  },
  {
   "cell_type": "code",
   "execution_count": 120,
   "metadata": {},
   "outputs": [
    {
     "name": "stdout",
     "output_type": "stream",
     "text": [
      "Previous dictionary for key 201: [1916, 5032]\n",
      "New dictionary for key 201: [1916, 5032, 432]\n"
     ]
    }
   ],
   "source": [
    "from copy import deepcopy\n",
    "\n",
    "new_dict = deepcopy(result_dict)\n",
    "for meal_code in new_dict:\n",
    "    min_value = section_a.loc[(section_a['meal_code'] == meal_code), 'meals_new'].min()\n",
    "    new_dict[meal_code].append(int(min_value))\n",
    "\n",
    "print(f\"Previous dictionary for key 201: {result_dict.get(201)}\")\n",
    "print(f\"New dictionary for key 201: {new_dict.get(201)}\")\n"
   ]
  },
  {
   "cell_type": "markdown",
   "metadata": {},
   "source": [
    "## 4. SectionB – Supply Chain logic and Optimization\n",
    "\n",
    "SectionB contains three separate sheets in the excel file.\n",
    "- SectionB_1 contains boxes to produce. It contains the size and the weight of each box and in which\n",
    "agency it should be shipped to\n",
    "- SectionB_2 is a reference table of agencies and at what time it closes\n",
    "- SectionB_3 is a reference table of the dimension of each box size\n",
    "\n",
    "Each box produced needs to be packed in a pallet then pallets are loaded to trucks. Our pallet’s dimensions are as followed:\n",
    ">- pallet_length_cm = 100\n",
    ">- pallet_width_cm = 60\n"
   ]
  },
  {
   "cell_type": "code",
   "execution_count": 131,
   "metadata": {},
   "outputs": [
    {
     "data": {
      "text/html": [
       "<div>\n",
       "<style scoped>\n",
       "    .dataframe tbody tr th:only-of-type {\n",
       "        vertical-align: middle;\n",
       "    }\n",
       "\n",
       "    .dataframe tbody tr th {\n",
       "        vertical-align: top;\n",
       "    }\n",
       "\n",
       "    .dataframe thead th {\n",
       "        text-align: right;\n",
       "    }\n",
       "</style>\n",
       "<table border=\"1\" class=\"dataframe\">\n",
       "  <thead>\n",
       "    <tr style=\"text-align: right;\">\n",
       "      <th></th>\n",
       "      <th>box_id</th>\n",
       "      <th>box_size</th>\n",
       "      <th>weight(kg)</th>\n",
       "      <th>agency_code</th>\n",
       "    </tr>\n",
       "  </thead>\n",
       "  <tbody>\n",
       "    <tr>\n",
       "      <th>0</th>\n",
       "      <td>FR0001</td>\n",
       "      <td>S</td>\n",
       "      <td>4.09</td>\n",
       "      <td>A</td>\n",
       "    </tr>\n",
       "    <tr>\n",
       "      <th>1</th>\n",
       "      <td>FR0002</td>\n",
       "      <td>S</td>\n",
       "      <td>5.71</td>\n",
       "      <td>B</td>\n",
       "    </tr>\n",
       "    <tr>\n",
       "      <th>2</th>\n",
       "      <td>FR0003</td>\n",
       "      <td>S</td>\n",
       "      <td>4.08</td>\n",
       "      <td>C</td>\n",
       "    </tr>\n",
       "  </tbody>\n",
       "</table>\n",
       "</div>"
      ],
      "text/plain": [
       "   box_id box_size  weight(kg) agency_code\n",
       "0  FR0001        S        4.09           A\n",
       "1  FR0002        S        5.71           B\n",
       "2  FR0003        S        4.08           C"
      ]
     },
     "metadata": {},
     "output_type": "display_data"
    },
    {
     "data": {
      "text/html": [
       "<div>\n",
       "<style scoped>\n",
       "    .dataframe tbody tr th:only-of-type {\n",
       "        vertical-align: middle;\n",
       "    }\n",
       "\n",
       "    .dataframe tbody tr th {\n",
       "        vertical-align: top;\n",
       "    }\n",
       "\n",
       "    .dataframe thead th {\n",
       "        text-align: right;\n",
       "    }\n",
       "</style>\n",
       "<table border=\"1\" class=\"dataframe\">\n",
       "  <thead>\n",
       "    <tr style=\"text-align: right;\">\n",
       "      <th></th>\n",
       "      <th>agency_code</th>\n",
       "      <th>closed_at</th>\n",
       "    </tr>\n",
       "  </thead>\n",
       "  <tbody>\n",
       "    <tr>\n",
       "      <th>0</th>\n",
       "      <td>A</td>\n",
       "      <td>19:00:00</td>\n",
       "    </tr>\n",
       "    <tr>\n",
       "      <th>1</th>\n",
       "      <td>B</td>\n",
       "      <td>10:00:00</td>\n",
       "    </tr>\n",
       "    <tr>\n",
       "      <th>2</th>\n",
       "      <td>C</td>\n",
       "      <td>23:00:00</td>\n",
       "    </tr>\n",
       "  </tbody>\n",
       "</table>\n",
       "</div>"
      ],
      "text/plain": [
       "  agency_code closed_at\n",
       "0           A  19:00:00\n",
       "1           B  10:00:00\n",
       "2           C  23:00:00"
      ]
     },
     "metadata": {},
     "output_type": "display_data"
    },
    {
     "data": {
      "text/html": [
       "<div>\n",
       "<style scoped>\n",
       "    .dataframe tbody tr th:only-of-type {\n",
       "        vertical-align: middle;\n",
       "    }\n",
       "\n",
       "    .dataframe tbody tr th {\n",
       "        vertical-align: top;\n",
       "    }\n",
       "\n",
       "    .dataframe thead th {\n",
       "        text-align: right;\n",
       "    }\n",
       "</style>\n",
       "<table border=\"1\" class=\"dataframe\">\n",
       "  <thead>\n",
       "    <tr style=\"text-align: right;\">\n",
       "      <th></th>\n",
       "      <th>box_size</th>\n",
       "      <th>height(cm)</th>\n",
       "      <th>length(cm)</th>\n",
       "      <th>width(cm)</th>\n",
       "      <th>volume(m3)</th>\n",
       "    </tr>\n",
       "  </thead>\n",
       "  <tbody>\n",
       "    <tr>\n",
       "      <th>0</th>\n",
       "      <td>S</td>\n",
       "      <td>10</td>\n",
       "      <td>50</td>\n",
       "      <td>20</td>\n",
       "      <td>100</td>\n",
       "    </tr>\n",
       "    <tr>\n",
       "      <th>1</th>\n",
       "      <td>M</td>\n",
       "      <td>20</td>\n",
       "      <td>50</td>\n",
       "      <td>20</td>\n",
       "      <td>200</td>\n",
       "    </tr>\n",
       "    <tr>\n",
       "      <th>2</th>\n",
       "      <td>L</td>\n",
       "      <td>25</td>\n",
       "      <td>50</td>\n",
       "      <td>20</td>\n",
       "      <td>250</td>\n",
       "    </tr>\n",
       "  </tbody>\n",
       "</table>\n",
       "</div>"
      ],
      "text/plain": [
       "  box_size  height(cm)  length(cm)  width(cm)  volume(m3)\n",
       "0        S          10          50         20         100\n",
       "1        M          20          50         20         200\n",
       "2        L          25          50         20         250"
      ]
     },
     "metadata": {},
     "output_type": "display_data"
    }
   ],
   "source": [
    "display(section_b_1.head(3))\n",
    "display(section_b_2.head(3))\n",
    "display(section_b_3.head(3))"
   ]
  },
  {
   "cell_type": "markdown",
   "metadata": {},
   "source": [
    "Question 8 : Please add two new columns named “pallet_order” and “box_order”.\n",
    "- “pallet_order” should contain the order in which the pallet must be produced\n",
    "- “box_order” should contain the order in which the box must be produced per pallet.\n",
    "\n",
    "For this case, pallets cannot exceed 50 cm in height and trucks can only contain 2 pallets.\n",
    "How many pallets do we have? How many trucks do we need?\n"
   ]
  },
  {
   "cell_type": "code",
   "execution_count": 143,
   "metadata": {},
   "outputs": [
    {
     "data": {
      "text/html": [
       "<div>\n",
       "<style scoped>\n",
       "    .dataframe tbody tr th:only-of-type {\n",
       "        vertical-align: middle;\n",
       "    }\n",
       "\n",
       "    .dataframe tbody tr th {\n",
       "        vertical-align: top;\n",
       "    }\n",
       "\n",
       "    .dataframe thead th {\n",
       "        text-align: right;\n",
       "    }\n",
       "</style>\n",
       "<table border=\"1\" class=\"dataframe\">\n",
       "  <thead>\n",
       "    <tr style=\"text-align: right;\">\n",
       "      <th></th>\n",
       "      <th>box_id</th>\n",
       "      <th>box_size</th>\n",
       "      <th>weight(kg)</th>\n",
       "      <th>agency_code</th>\n",
       "      <th>height(cm)</th>\n",
       "      <th>length(cm)</th>\n",
       "      <th>width(cm)</th>\n",
       "      <th>volume(m3)</th>\n",
       "      <th>box_volume</th>\n",
       "      <th>pallet_order</th>\n",
       "      <th>box_order</th>\n",
       "    </tr>\n",
       "  </thead>\n",
       "  <tbody>\n",
       "    <tr>\n",
       "      <th>0</th>\n",
       "      <td>FR0001</td>\n",
       "      <td>S</td>\n",
       "      <td>4.09</td>\n",
       "      <td>A</td>\n",
       "      <td>10</td>\n",
       "      <td>50</td>\n",
       "      <td>20</td>\n",
       "      <td>100</td>\n",
       "      <td>10000</td>\n",
       "      <td>1</td>\n",
       "      <td>1</td>\n",
       "    </tr>\n",
       "    <tr>\n",
       "      <th>1</th>\n",
       "      <td>FR0002</td>\n",
       "      <td>S</td>\n",
       "      <td>5.71</td>\n",
       "      <td>B</td>\n",
       "      <td>10</td>\n",
       "      <td>50</td>\n",
       "      <td>20</td>\n",
       "      <td>100</td>\n",
       "      <td>10000</td>\n",
       "      <td>1</td>\n",
       "      <td>2</td>\n",
       "    </tr>\n",
       "    <tr>\n",
       "      <th>2</th>\n",
       "      <td>FR0003</td>\n",
       "      <td>S</td>\n",
       "      <td>4.08</td>\n",
       "      <td>C</td>\n",
       "      <td>10</td>\n",
       "      <td>50</td>\n",
       "      <td>20</td>\n",
       "      <td>100</td>\n",
       "      <td>10000</td>\n",
       "      <td>1</td>\n",
       "      <td>3</td>\n",
       "    </tr>\n",
       "    <tr>\n",
       "      <th>3</th>\n",
       "      <td>FR0004</td>\n",
       "      <td>L</td>\n",
       "      <td>8.62</td>\n",
       "      <td>D</td>\n",
       "      <td>25</td>\n",
       "      <td>50</td>\n",
       "      <td>20</td>\n",
       "      <td>250</td>\n",
       "      <td>25000</td>\n",
       "      <td>1</td>\n",
       "      <td>4</td>\n",
       "    </tr>\n",
       "    <tr>\n",
       "      <th>4</th>\n",
       "      <td>FR0005</td>\n",
       "      <td>L</td>\n",
       "      <td>7.88</td>\n",
       "      <td>D</td>\n",
       "      <td>25</td>\n",
       "      <td>50</td>\n",
       "      <td>20</td>\n",
       "      <td>250</td>\n",
       "      <td>25000</td>\n",
       "      <td>1</td>\n",
       "      <td>5</td>\n",
       "    </tr>\n",
       "    <tr>\n",
       "      <th>...</th>\n",
       "      <td>...</td>\n",
       "      <td>...</td>\n",
       "      <td>...</td>\n",
       "      <td>...</td>\n",
       "      <td>...</td>\n",
       "      <td>...</td>\n",
       "      <td>...</td>\n",
       "      <td>...</td>\n",
       "      <td>...</td>\n",
       "      <td>...</td>\n",
       "      <td>...</td>\n",
       "    </tr>\n",
       "    <tr>\n",
       "      <th>95</th>\n",
       "      <td>FR0096</td>\n",
       "      <td>M</td>\n",
       "      <td>6.91</td>\n",
       "      <td>D</td>\n",
       "      <td>20</td>\n",
       "      <td>50</td>\n",
       "      <td>20</td>\n",
       "      <td>200</td>\n",
       "      <td>20000</td>\n",
       "      <td>4</td>\n",
       "      <td>6</td>\n",
       "    </tr>\n",
       "    <tr>\n",
       "      <th>96</th>\n",
       "      <td>FR0097</td>\n",
       "      <td>S</td>\n",
       "      <td>5.10</td>\n",
       "      <td>D</td>\n",
       "      <td>10</td>\n",
       "      <td>50</td>\n",
       "      <td>20</td>\n",
       "      <td>100</td>\n",
       "      <td>10000</td>\n",
       "      <td>4</td>\n",
       "      <td>7</td>\n",
       "    </tr>\n",
       "    <tr>\n",
       "      <th>97</th>\n",
       "      <td>FR0098</td>\n",
       "      <td>M</td>\n",
       "      <td>8.59</td>\n",
       "      <td>A</td>\n",
       "      <td>20</td>\n",
       "      <td>50</td>\n",
       "      <td>20</td>\n",
       "      <td>200</td>\n",
       "      <td>20000</td>\n",
       "      <td>4</td>\n",
       "      <td>8</td>\n",
       "    </tr>\n",
       "    <tr>\n",
       "      <th>98</th>\n",
       "      <td>FR0099</td>\n",
       "      <td>S</td>\n",
       "      <td>3.51</td>\n",
       "      <td>B</td>\n",
       "      <td>10</td>\n",
       "      <td>50</td>\n",
       "      <td>20</td>\n",
       "      <td>100</td>\n",
       "      <td>10000</td>\n",
       "      <td>4</td>\n",
       "      <td>9</td>\n",
       "    </tr>\n",
       "    <tr>\n",
       "      <th>99</th>\n",
       "      <td>FR0100</td>\n",
       "      <td>M</td>\n",
       "      <td>3.81</td>\n",
       "      <td>B</td>\n",
       "      <td>20</td>\n",
       "      <td>50</td>\n",
       "      <td>20</td>\n",
       "      <td>200</td>\n",
       "      <td>20000</td>\n",
       "      <td>4</td>\n",
       "      <td>10</td>\n",
       "    </tr>\n",
       "  </tbody>\n",
       "</table>\n",
       "<p>100 rows × 11 columns</p>\n",
       "</div>"
      ],
      "text/plain": [
       "    box_id box_size  weight(kg) agency_code  height(cm)  length(cm)  \\\n",
       "0   FR0001        S        4.09           A          10          50   \n",
       "1   FR0002        S        5.71           B          10          50   \n",
       "2   FR0003        S        4.08           C          10          50   \n",
       "3   FR0004        L        8.62           D          25          50   \n",
       "4   FR0005        L        7.88           D          25          50   \n",
       "..     ...      ...         ...         ...         ...         ...   \n",
       "95  FR0096        M        6.91           D          20          50   \n",
       "96  FR0097        S        5.10           D          10          50   \n",
       "97  FR0098        M        8.59           A          20          50   \n",
       "98  FR0099        S        3.51           B          10          50   \n",
       "99  FR0100        M        3.81           B          20          50   \n",
       "\n",
       "    width(cm)  volume(m3)  box_volume  pallet_order  box_order  \n",
       "0          20         100       10000             1          1  \n",
       "1          20         100       10000             1          2  \n",
       "2          20         100       10000             1          3  \n",
       "3          20         250       25000             1          4  \n",
       "4          20         250       25000             1          5  \n",
       "..        ...         ...         ...           ...        ...  \n",
       "95         20         200       20000             4          6  \n",
       "96         20         100       10000             4          7  \n",
       "97         20         200       20000             4          8  \n",
       "98         20         100       10000             4          9  \n",
       "99         20         200       20000             4         10  \n",
       "\n",
       "[100 rows x 11 columns]"
      ]
     },
     "execution_count": 143,
     "metadata": {},
     "output_type": "execute_result"
    }
   ],
   "source": [
    "# Calculate the volume of each box\n",
    "new_section_b_13 = section_b_1.merge(section_b_3, on='box_size')\n",
    "new_section_b_13['box_volume'] = new_section_b_13['height(cm)'] * new_section_b_13['length(cm)'] * new_section_b_13['width(cm)']\n",
    "\n",
    "# Calculate the total volume of all boxes\n",
    "total_volume = new_section_b_13['box_volume'].sum()\n",
    "\n",
    "# Calculate the volume of a pallet\n",
    "pallet_volume = 100 * 60 * 50\n",
    "\n",
    "# Calculate the number of pallets needed\n",
    "num_pallets = np.ceil(total_volume / pallet_volume)\n",
    "\n",
    "# Calculate the number of trucks needed\n",
    "num_trucks = np.ceil(num_pallets / 2)\n",
    "\n",
    "# Add the \"pallet_order\" and \"box_order\" columns\n",
    "new_section_b_13['pallet_order'] = (new_section_b_13.index // 30) + 1\n",
    "new_section_b_13['box_order'] = (new_section_b_13.index % 30) + 1\n",
    "new_section_b_13"
   ]
  },
  {
   "cell_type": "code",
   "execution_count": 156,
   "metadata": {},
   "outputs": [
    {
     "name": "stdout",
     "output_type": "stream",
     "text": [
      "Total number of pallets: 38\n",
      "Total number of trucks needed: 19\n"
     ]
    },
    {
     "data": {
      "text/html": [
       "<div>\n",
       "<style scoped>\n",
       "    .dataframe tbody tr th:only-of-type {\n",
       "        vertical-align: middle;\n",
       "    }\n",
       "\n",
       "    .dataframe tbody tr th {\n",
       "        vertical-align: top;\n",
       "    }\n",
       "\n",
       "    .dataframe thead th {\n",
       "        text-align: right;\n",
       "    }\n",
       "</style>\n",
       "<table border=\"1\" class=\"dataframe\">\n",
       "  <thead>\n",
       "    <tr style=\"text-align: right;\">\n",
       "      <th></th>\n",
       "      <th>box_id</th>\n",
       "      <th>pallet_order</th>\n",
       "      <th>box_order</th>\n",
       "    </tr>\n",
       "  </thead>\n",
       "  <tbody>\n",
       "    <tr>\n",
       "      <th>0</th>\n",
       "      <td>FR0004</td>\n",
       "      <td>0</td>\n",
       "      <td>0</td>\n",
       "    </tr>\n",
       "    <tr>\n",
       "      <th>1</th>\n",
       "      <td>FR0011</td>\n",
       "      <td>1</td>\n",
       "      <td>0</td>\n",
       "    </tr>\n",
       "    <tr>\n",
       "      <th>2</th>\n",
       "      <td>FR0010</td>\n",
       "      <td>1</td>\n",
       "      <td>1</td>\n",
       "    </tr>\n",
       "    <tr>\n",
       "      <th>3</th>\n",
       "      <td>FR0005</td>\n",
       "      <td>2</td>\n",
       "      <td>0</td>\n",
       "    </tr>\n",
       "    <tr>\n",
       "      <th>4</th>\n",
       "      <td>FR0029</td>\n",
       "      <td>2</td>\n",
       "      <td>1</td>\n",
       "    </tr>\n",
       "    <tr>\n",
       "      <th>5</th>\n",
       "      <td>FR0033</td>\n",
       "      <td>3</td>\n",
       "      <td>0</td>\n",
       "    </tr>\n",
       "  </tbody>\n",
       "</table>\n",
       "</div>"
      ],
      "text/plain": [
       "   box_id  pallet_order  box_order\n",
       "0  FR0004             0          0\n",
       "1  FR0011             1          0\n",
       "2  FR0010             1          1\n",
       "3  FR0005             2          0\n",
       "4  FR0029             2          1\n",
       "5  FR0033             3          0"
      ]
     },
     "metadata": {},
     "output_type": "display_data"
    }
   ],
   "source": [
    "pallet_max_height_cm = 50\n",
    "\n",
    "# Add dimensions and volume to section_b_1\n",
    "section_b_1 = section_b_1.merge(section_b_3, left_on='box_size', right_on='box_size', how='left')\n",
    "section_b_1['volume'] = section_b_1['length(cm)'] * section_b_1['width(cm)'] * section_b_1['height(cm)'] / 1_000_000\n",
    "# Sort boxes by volume (largest volume first)\n",
    "section_b_1_sorted = section_b_1.sort_values(by='volume', ascending=False).reset_index(drop=True)\n",
    "\n",
    "# Calculate the cumulative height of the boxes for each pallet and identify the pallet number for each box\n",
    "section_b_1_sorted['cumulative_height'] = section_b_1_sorted['height(cm)'].cumsum()\n",
    "section_b_1_sorted['pallet_order'] = (section_b_1_sorted['cumulative_height'] / pallet_max_height_cm).astype(int)\n",
    "\n",
    "# Add the order of boxes on each pallet and total number of pallets\n",
    "section_b_1_sorted['box_order'] = section_b_1_sorted.groupby('pallet_order').cumcount()\n",
    "total_pallets = section_b_1_sorted['pallet_order'].max() + 1\n",
    "\n",
    "# Determine the number of trucks required (max. 2 pallets/trucks)\n",
    "total_trucks = (total_pallets + 1) // 2\n",
    "\n",
    "print(\"Total number of pallets:\", total_pallets)\n",
    "print(\"Total number of trucks needed:\", total_trucks)\n",
    "display(section_b_1_sorted[['box_id', 'pallet_order', 'box_order']].head(6))\n"
   ]
  },
  {
   "cell_type": "code",
   "execution_count": 161,
   "metadata": {},
   "outputs": [
    {
     "name": "stdout",
     "output_type": "stream",
     "text": [
      "Total number of trucks needed: 16\n"
     ]
    }
   ],
   "source": [
    "\n",
    "def calculate_trucks_needed(section_b_1, section_b_3, pallet_max_height_cm):\n",
    "    \"\"\"\n",
    "    Calculate the number of trucks needed based on pallet height.\n",
    "    \"\"\"\n",
    "    \n",
    "    section_b_1 = section_b_1.merge(section_b_3, left_on='box_size', right_on='box_size', how='left')\n",
    "    section_b_1['volume'] = section_b_1['length(cm)'] * section_b_1['width(cm)'] * section_b_1['height(cm)'] / 1_000_000\n",
    "    section_b_1_sorted = section_b_1.sort_values(by='volume', ascending=False).reset_index(drop=True)\n",
    "\n",
    "    section_b_1_sorted['cumulative_height'] = section_b_1_sorted['height(cm)'].cumsum()\n",
    "    section_b_1_sorted['pallet_order'] = (section_b_1_sorted['cumulative_height'] / pallet_max_height_cm).astype(int)\n",
    "\n",
    "    section_b_1_sorted['box_order'] = section_b_1_sorted.groupby('pallet_order').cumcount()\n",
    "    total_pallets = section_b_1_sorted['pallet_order'].max() + 1\n",
    "\n",
    "    total_trucks = (total_pallets + 1) // 2\n",
    "    return total_trucks, section_b_1_sorted\n",
    "\n",
    "new_section_b_1 = pd.read_excel(excel_name, sheet_name='SectionB_1')\n",
    "new_section_b_3 = pd.read_excel(excel_name, sheet_name='SectionB_3')\n",
    "\n",
    "pallet_max_height_cm = 60  # Example if we increase pallet max hieght\n",
    "total_trucks, section_b_1_sorted = calculate_trucks_needed(new_section_b_1, new_section_b_3, pallet_max_height_cm)\n",
    "\n",
    "print(\"Total number of trucks needed:\", total_trucks)"
   ]
  },
  {
   "cell_type": "markdown",
   "metadata": {},
   "source": [
    "# 5. SectionC – Data Analysis and Visualization\n",
    "SectionC contains three separate sheets in the excel file\n",
    "- SectionC_1 contain meal_code, and quantity of sales and price over 4 distinct weeks\n",
    "- SectionC_2 is a reference table of which ingredients are in which meal_code\n",
    "- SectionC_3 contain cost and supplier information for each ingredient"
   ]
  },
  {
   "cell_type": "code",
   "execution_count": 163,
   "metadata": {},
   "outputs": [
    {
     "data": {
      "text/html": [
       "<div>\n",
       "<style scoped>\n",
       "    .dataframe tbody tr th:only-of-type {\n",
       "        vertical-align: middle;\n",
       "    }\n",
       "\n",
       "    .dataframe tbody tr th {\n",
       "        vertical-align: top;\n",
       "    }\n",
       "\n",
       "    .dataframe thead th {\n",
       "        text-align: right;\n",
       "    }\n",
       "</style>\n",
       "<table border=\"1\" class=\"dataframe\">\n",
       "  <thead>\n",
       "    <tr style=\"text-align: right;\">\n",
       "      <th></th>\n",
       "      <th>meal_code</th>\n",
       "      <th>week</th>\n",
       "      <th>sales(QTY)</th>\n",
       "      <th>sales_price(euros)</th>\n",
       "    </tr>\n",
       "  </thead>\n",
       "  <tbody>\n",
       "    <tr>\n",
       "      <th>0</th>\n",
       "      <td>201</td>\n",
       "      <td>1</td>\n",
       "      <td>75</td>\n",
       "      <td>10</td>\n",
       "    </tr>\n",
       "    <tr>\n",
       "      <th>1</th>\n",
       "      <td>202</td>\n",
       "      <td>1</td>\n",
       "      <td>140</td>\n",
       "      <td>10</td>\n",
       "    </tr>\n",
       "    <tr>\n",
       "      <th>2</th>\n",
       "      <td>203</td>\n",
       "      <td>1</td>\n",
       "      <td>203</td>\n",
       "      <td>10</td>\n",
       "    </tr>\n",
       "  </tbody>\n",
       "</table>\n",
       "</div>"
      ],
      "text/plain": [
       "   meal_code  week  sales(QTY)  sales_price(euros)\n",
       "0        201     1          75                  10\n",
       "1        202     1         140                  10\n",
       "2        203     1         203                  10"
      ]
     },
     "metadata": {},
     "output_type": "display_data"
    },
    {
     "data": {
      "text/html": [
       "<div>\n",
       "<style scoped>\n",
       "    .dataframe tbody tr th:only-of-type {\n",
       "        vertical-align: middle;\n",
       "    }\n",
       "\n",
       "    .dataframe tbody tr th {\n",
       "        vertical-align: top;\n",
       "    }\n",
       "\n",
       "    .dataframe thead th {\n",
       "        text-align: right;\n",
       "    }\n",
       "</style>\n",
       "<table border=\"1\" class=\"dataframe\">\n",
       "  <thead>\n",
       "    <tr style=\"text-align: right;\">\n",
       "      <th></th>\n",
       "      <th>meal_code</th>\n",
       "      <th>ingredients</th>\n",
       "    </tr>\n",
       "  </thead>\n",
       "  <tbody>\n",
       "    <tr>\n",
       "      <th>0</th>\n",
       "      <td>201</td>\n",
       "      <td>Tomato</td>\n",
       "    </tr>\n",
       "    <tr>\n",
       "      <th>1</th>\n",
       "      <td>201</td>\n",
       "      <td>Mozarella</td>\n",
       "    </tr>\n",
       "    <tr>\n",
       "      <th>2</th>\n",
       "      <td>202</td>\n",
       "      <td>Pasta</td>\n",
       "    </tr>\n",
       "  </tbody>\n",
       "</table>\n",
       "</div>"
      ],
      "text/plain": [
       "   meal_code ingredients\n",
       "0        201      Tomato\n",
       "1        201   Mozarella\n",
       "2        202       Pasta"
      ]
     },
     "metadata": {},
     "output_type": "display_data"
    },
    {
     "data": {
      "text/html": [
       "<div>\n",
       "<style scoped>\n",
       "    .dataframe tbody tr th:only-of-type {\n",
       "        vertical-align: middle;\n",
       "    }\n",
       "\n",
       "    .dataframe tbody tr th {\n",
       "        vertical-align: top;\n",
       "    }\n",
       "\n",
       "    .dataframe thead th {\n",
       "        text-align: right;\n",
       "    }\n",
       "</style>\n",
       "<table border=\"1\" class=\"dataframe\">\n",
       "  <thead>\n",
       "    <tr style=\"text-align: right;\">\n",
       "      <th></th>\n",
       "      <th>ingredients</th>\n",
       "      <th>supplier</th>\n",
       "      <th>cost_per_meal(euros)</th>\n",
       "    </tr>\n",
       "  </thead>\n",
       "  <tbody>\n",
       "    <tr>\n",
       "      <th>0</th>\n",
       "      <td>Avocado</td>\n",
       "      <td>Supplier1</td>\n",
       "      <td>3.7</td>\n",
       "    </tr>\n",
       "    <tr>\n",
       "      <th>1</th>\n",
       "      <td>Bread</td>\n",
       "      <td>Supplier2</td>\n",
       "      <td>1.2</td>\n",
       "    </tr>\n",
       "    <tr>\n",
       "      <th>2</th>\n",
       "      <td>Chicken</td>\n",
       "      <td>Supplier3</td>\n",
       "      <td>4.5</td>\n",
       "    </tr>\n",
       "  </tbody>\n",
       "</table>\n",
       "</div>"
      ],
      "text/plain": [
       "  ingredients   supplier  cost_per_meal(euros)\n",
       "0     Avocado  Supplier1                   3.7\n",
       "1       Bread  Supplier2                   1.2\n",
       "2     Chicken  Supplier3                   4.5"
      ]
     },
     "metadata": {},
     "output_type": "display_data"
    }
   ],
   "source": [
    "display(section_c_1.head(3))\n",
    "display(section_c_2.head(3))\n",
    "display(section_c_3.head(3))"
   ]
  },
  {
   "cell_type": "code",
   "execution_count": 175,
   "metadata": {},
   "outputs": [
    {
     "data": {
      "image/png": "[encoded data removed]",
      "text/plain": [
       "<Figure size 800x800 with 1 Axes>"
      ]
     },
     "metadata": {},
     "output_type": "display_data"
    }
   ],
   "source": [
    "# Simple chart for ingredient cost distribution\n",
    "ingredient_costs = section_c_3.groupby('ingredients')['cost_per_meal(euros)'].sum().reset_index()\n",
    "plt.figure(figsize=(8, 8))\n",
    "plt.pie(ingredient_costs['cost_per_meal(euros)'], labels=ingredient_costs['ingredients'], autopct='%1.1f%%', startangle=140)\n",
    "plt.title('Cost Distribution by Ingredient')\n",
    "plt.show()"
   ]
  },
  {
   "cell_type": "code",
   "execution_count": 173,
   "metadata": {},
   "outputs": [
    {
     "data": {
      "image/png": "[encoded data removed]",
      "text/plain": [
       "<Figure size 800x400 with 1 Axes>"
      ]
     },
     "metadata": {},
     "output_type": "display_data"
    }
   ],
   "source": [
    "# Merge data\n",
    "merged_data = pd.merge(section_c_1, section_c_2, on='meal_code')\n",
    "merged_data = pd.merge(merged_data, section_c_3, on='ingredients')\n",
    "\n",
    "# Calculate revenue and cost per meal\n",
    "merged_data['revenue'] = merged_data['sales(QTY)'] * merged_data['sales_price(euros)']\n",
    "merged_data['cost'] = merged_data['sales(QTY)'] * merged_data['cost_per_meal(euros)']\n",
    "total_costs = merged_data.groupby('meal_code')['cost'].sum().reset_index(name='total_cost')\n",
    "revenues = merged_data.groupby('meal_code')['revenue'].sum().reset_index()\n",
    "\n",
    "# Merge revenue and cost data\n",
    "final_data = pd.merge(revenues, total_costs, on='meal_code')\n",
    "final_data['profit'] = final_data['revenue'] - final_data['total_cost']\n",
    "\n",
    "# Visualization\n",
    "plt.figure(figsize=(8, 4))\n",
    "\n",
    "# Bar chart for revenue and total cost\n",
    "ax = sns.barplot(x='meal_code', y='value', hue='variable', \n",
    "            data=pd.melt(final_data[['meal_code', 'revenue', 'total_cost']], id_vars=['meal_code']))\n",
    "ax.bar_label(ax.containers[0])\n",
    "\n",
    "plt.title('Total Revenue and Cost by Meal Code')\n",
    "plt.xlabel('Meal Code')\n",
    "plt.ylabel('Amount (Euros)')\n",
    "plt.legend(title='Metric')\n",
    "plt.tight_layout()\n",
    "plt.show()"
   ]
  }
 ],
 "metadata": {
  "kernelspec": {
   "display_name": ".venv",
   "language": "python",
   "name": "python3"
  },
  "language_info": {
   "codemirror_mode": {
    "name": "ipython",
    "version": 3
   },
   "file_extension": ".py",
   "mimetype": "text/x-python",
   "name": "python",
   "nbconvert_exporter": "python",
   "pygments_lexer": "ipython3",
   "version": "3.11.9"
  }
 },
 "nbformat": 4,
 "nbformat_minor": 2
}
